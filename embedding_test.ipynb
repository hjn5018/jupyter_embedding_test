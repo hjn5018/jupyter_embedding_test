{
 "cells": [
  {
   "cell_type": "code",
   "execution_count": 2,
   "id": "c5d80e69-67ff-406f-bbd6-1af749628556",
   "metadata": {},
   "outputs": [
    {
     "name": "stdout",
     "output_type": "stream",
     "text": [
      "Requirement already satisfied: langchain in c:\\users\\user\\desktop\\jupyter_test\\venv\\lib\\site-packages (0.3.26)\n",
      "Requirement already satisfied: langchainhub in c:\\users\\user\\desktop\\jupyter_test\\venv\\lib\\site-packages (0.1.21)\n",
      "Requirement already satisfied: langchain-openai in c:\\users\\user\\desktop\\jupyter_test\\venv\\lib\\site-packages (0.3.27)\n",
      "Requirement already satisfied: pypdf in c:\\users\\user\\desktop\\jupyter_test\\venv\\lib\\site-packages (5.7.0)\n",
      "Requirement already satisfied: pinecone-client in c:\\users\\user\\desktop\\jupyter_test\\venv\\lib\\site-packages (6.0.0)\n",
      "Requirement already satisfied: tiktoken in c:\\users\\user\\desktop\\jupyter_test\\venv\\lib\\site-packages (0.9.0)\n",
      "Collecting python_dotenv\n",
      "  Using cached python_dotenv-1.1.1-py3-none-any.whl.metadata (24 kB)\n",
      "Requirement already satisfied: langchain-core<1.0.0,>=0.3.66 in c:\\users\\user\\desktop\\jupyter_test\\venv\\lib\\site-packages (from langchain) (0.3.67)\n",
      "Requirement already satisfied: langchain-text-splitters<1.0.0,>=0.3.8 in c:\\users\\user\\desktop\\jupyter_test\\venv\\lib\\site-packages (from langchain) (0.3.8)\n",
      "Requirement already satisfied: langsmith>=0.1.17 in c:\\users\\user\\desktop\\jupyter_test\\venv\\lib\\site-packages (from langchain) (0.4.4)\n",
      "Requirement already satisfied: pydantic<3.0.0,>=2.7.4 in c:\\users\\user\\desktop\\jupyter_test\\venv\\lib\\site-packages (from langchain) (2.11.7)\n",
      "Requirement already satisfied: SQLAlchemy<3,>=1.4 in c:\\users\\user\\desktop\\jupyter_test\\venv\\lib\\site-packages (from langchain) (2.0.41)\n",
      "Requirement already satisfied: requests<3,>=2 in c:\\users\\user\\desktop\\jupyter_test\\venv\\lib\\site-packages (from langchain) (2.32.4)\n",
      "Requirement already satisfied: PyYAML>=5.3 in c:\\users\\user\\desktop\\jupyter_test\\venv\\lib\\site-packages (from langchain) (6.0.2)\n",
      "Requirement already satisfied: tenacity!=8.4.0,<10.0.0,>=8.1.0 in c:\\users\\user\\desktop\\jupyter_test\\venv\\lib\\site-packages (from langchain-core<1.0.0,>=0.3.66->langchain) (9.1.2)\n",
      "Requirement already satisfied: jsonpatch<2.0,>=1.33 in c:\\users\\user\\desktop\\jupyter_test\\venv\\lib\\site-packages (from langchain-core<1.0.0,>=0.3.66->langchain) (1.33)\n",
      "Requirement already satisfied: packaging<25,>=23.2 in c:\\users\\user\\desktop\\jupyter_test\\venv\\lib\\site-packages (from langchain-core<1.0.0,>=0.3.66->langchain) (24.2)\n",
      "Requirement already satisfied: typing-extensions>=4.7 in c:\\users\\user\\desktop\\jupyter_test\\venv\\lib\\site-packages (from langchain-core<1.0.0,>=0.3.66->langchain) (4.14.0)\n",
      "Requirement already satisfied: jsonpointer>=1.9 in c:\\users\\user\\desktop\\jupyter_test\\venv\\lib\\site-packages (from jsonpatch<2.0,>=1.33->langchain-core<1.0.0,>=0.3.66->langchain) (3.0.0)\n",
      "Requirement already satisfied: annotated-types>=0.6.0 in c:\\users\\user\\desktop\\jupyter_test\\venv\\lib\\site-packages (from pydantic<3.0.0,>=2.7.4->langchain) (0.7.0)\n",
      "Requirement already satisfied: pydantic-core==2.33.2 in c:\\users\\user\\desktop\\jupyter_test\\venv\\lib\\site-packages (from pydantic<3.0.0,>=2.7.4->langchain) (2.33.2)\n",
      "Requirement already satisfied: typing-inspection>=0.4.0 in c:\\users\\user\\desktop\\jupyter_test\\venv\\lib\\site-packages (from pydantic<3.0.0,>=2.7.4->langchain) (0.4.1)\n",
      "Requirement already satisfied: charset_normalizer<4,>=2 in c:\\users\\user\\desktop\\jupyter_test\\venv\\lib\\site-packages (from requests<3,>=2->langchain) (3.4.2)\n",
      "Requirement already satisfied: idna<4,>=2.5 in c:\\users\\user\\desktop\\jupyter_test\\venv\\lib\\site-packages (from requests<3,>=2->langchain) (3.10)\n",
      "Requirement already satisfied: urllib3<3,>=1.21.1 in c:\\users\\user\\desktop\\jupyter_test\\venv\\lib\\site-packages (from requests<3,>=2->langchain) (2.5.0)\n",
      "Requirement already satisfied: certifi>=2017.4.17 in c:\\users\\user\\desktop\\jupyter_test\\venv\\lib\\site-packages (from requests<3,>=2->langchain) (2025.6.15)\n",
      "Requirement already satisfied: greenlet>=1 in c:\\users\\user\\desktop\\jupyter_test\\venv\\lib\\site-packages (from SQLAlchemy<3,>=1.4->langchain) (3.2.3)\n",
      "Requirement already satisfied: types-requests<3.0.0.0,>=2.31.0.2 in c:\\users\\user\\desktop\\jupyter_test\\venv\\lib\\site-packages (from langchainhub) (2.32.4.20250611)\n",
      "Requirement already satisfied: openai<2.0.0,>=1.86.0 in c:\\users\\user\\desktop\\jupyter_test\\venv\\lib\\site-packages (from langchain-openai) (1.93.0)\n",
      "Requirement already satisfied: regex>=2022.1.18 in c:\\users\\user\\desktop\\jupyter_test\\venv\\lib\\site-packages (from tiktoken) (2024.11.6)\n",
      "Requirement already satisfied: anyio<5,>=3.5.0 in c:\\users\\user\\desktop\\jupyter_test\\venv\\lib\\site-packages (from openai<2.0.0,>=1.86.0->langchain-openai) (4.9.0)\n",
      "Requirement already satisfied: distro<2,>=1.7.0 in c:\\users\\user\\desktop\\jupyter_test\\venv\\lib\\site-packages (from openai<2.0.0,>=1.86.0->langchain-openai) (1.9.0)\n",
      "Requirement already satisfied: httpx<1,>=0.23.0 in c:\\users\\user\\desktop\\jupyter_test\\venv\\lib\\site-packages (from openai<2.0.0,>=1.86.0->langchain-openai) (0.28.1)\n",
      "Requirement already satisfied: jiter<1,>=0.4.0 in c:\\users\\user\\desktop\\jupyter_test\\venv\\lib\\site-packages (from openai<2.0.0,>=1.86.0->langchain-openai) (0.10.0)\n",
      "Requirement already satisfied: sniffio in c:\\users\\user\\desktop\\jupyter_test\\venv\\lib\\site-packages (from openai<2.0.0,>=1.86.0->langchain-openai) (1.3.1)\n",
      "Requirement already satisfied: tqdm>4 in c:\\users\\user\\desktop\\jupyter_test\\venv\\lib\\site-packages (from openai<2.0.0,>=1.86.0->langchain-openai) (4.67.1)\n",
      "Requirement already satisfied: httpcore==1.* in c:\\users\\user\\desktop\\jupyter_test\\venv\\lib\\site-packages (from httpx<1,>=0.23.0->openai<2.0.0,>=1.86.0->langchain-openai) (1.0.9)\n",
      "Requirement already satisfied: h11>=0.16 in c:\\users\\user\\desktop\\jupyter_test\\venv\\lib\\site-packages (from httpcore==1.*->httpx<1,>=0.23.0->openai<2.0.0,>=1.86.0->langchain-openai) (0.16.0)\n",
      "Requirement already satisfied: pinecone-plugin-interface<0.0.8,>=0.0.7 in c:\\users\\user\\desktop\\jupyter_test\\venv\\lib\\site-packages (from pinecone-client) (0.0.7)\n",
      "Requirement already satisfied: python-dateutil>=2.5.3 in c:\\users\\user\\desktop\\jupyter_test\\venv\\lib\\site-packages (from pinecone-client) (2.9.0.post0)\n",
      "Requirement already satisfied: orjson<4.0.0,>=3.9.14 in c:\\users\\user\\desktop\\jupyter_test\\venv\\lib\\site-packages (from langsmith>=0.1.17->langchain) (3.10.18)\n",
      "Requirement already satisfied: requests-toolbelt<2.0.0,>=1.0.0 in c:\\users\\user\\desktop\\jupyter_test\\venv\\lib\\site-packages (from langsmith>=0.1.17->langchain) (1.0.0)\n",
      "Requirement already satisfied: zstandard<0.24.0,>=0.23.0 in c:\\users\\user\\desktop\\jupyter_test\\venv\\lib\\site-packages (from langsmith>=0.1.17->langchain) (0.23.0)\n",
      "Requirement already satisfied: six>=1.5 in c:\\users\\user\\desktop\\jupyter_test\\venv\\lib\\site-packages (from python-dateutil>=2.5.3->pinecone-client) (1.17.0)\n",
      "Requirement already satisfied: colorama in c:\\users\\user\\desktop\\jupyter_test\\venv\\lib\\site-packages (from tqdm>4->openai<2.0.0,>=1.86.0->langchain-openai) (0.4.6)\n",
      "Using cached python_dotenv-1.1.1-py3-none-any.whl (20 kB)\n",
      "Installing collected packages: python_dotenv\n",
      "Successfully installed python_dotenv-1.1.1\n"
     ]
    }
   ],
   "source": [
    "!pip install langchain langchainhub langchain-openai pypdf pinecone-client tiktoken python_dotenv"
   ]
  },
  {
   "cell_type": "code",
   "execution_count": 6,
   "id": "0105e3a7-165f-4021-a79f-50dbe07ddd04",
   "metadata": {},
   "outputs": [],
   "source": [
    "import os\n",
    "from dotenv import load_dotenv\n",
    "\n",
    "load_dotenv()\n",
    "OPENAI_API_KEY=os.getenv(\"OPENAI_API_KEY\")"
   ]
  },
  {
   "cell_type": "code",
   "execution_count": 8,
   "id": "453ab6c4-e050-4b11-bc6a-499d235d42d1",
   "metadata": {},
   "outputs": [
    {
     "data": {
      "text/plain": [
       "AIMessage(content='안녕하세요! 무엇을 도와드릴까요?', additional_kwargs={'refusal': None}, response_metadata={'token_usage': {'completion_tokens': 21, 'prompt_tokens': 12, 'total_tokens': 33, 'completion_tokens_details': {'accepted_prediction_tokens': 0, 'audio_tokens': 0, 'reasoning_tokens': 0, 'rejected_prediction_tokens': 0}, 'prompt_tokens_details': {'audio_tokens': 0, 'cached_tokens': 0}}, 'model_name': 'gpt-3.5-turbo-0125', 'system_fingerprint': None, 'id': 'chatcmpl-BpNM7s0gNMFS7FWHondjyl3C01vaa', 'service_tier': 'default', 'finish_reason': 'stop', 'logprobs': None}, id='run--97ff5dff-1d40-47ce-bad0-a366afe63d90-0', usage_metadata={'input_tokens': 12, 'output_tokens': 21, 'total_tokens': 33, 'input_token_details': {'audio': 0, 'cache_read': 0}, 'output_token_details': {'audio': 0, 'reasoning': 0}})"
      ]
     },
     "execution_count": 8,
     "metadata": {},
     "output_type": "execute_result"
    }
   ],
   "source": [
    "from langchain_openai import ChatOpenAI\n",
    "\n",
    "llm = ChatOpenAI()\n",
    "llm.invoke(\"안녕?\")"
   ]
  },
  {
   "cell_type": "code",
   "execution_count": 9,
   "id": "e6dbbe28-7d65-4684-b7fb-4183ca276101",
   "metadata": {},
   "outputs": [],
   "source": [
    "from langchain_core.prompts import ChatPromptTemplate\n",
    "\n",
    "prompt = ChatPromptTemplate.from_messages([\n",
    "    (\"system\", \"너는 월드 클라스 기술 문서 작성 전문가야\"),\n",
    "    (\"user\", \"{input}\")\n",
    "])\n",
    "\n",
    "chain = prompt | llm"
   ]
  },
  {
   "cell_type": "code",
   "execution_count": 10,
   "id": "86f4b329-2c3d-4c7c-b142-5953c74f543a",
   "metadata": {},
   "outputs": [
    {
     "data": {
      "text/plain": [
       "AIMessage(content='Django Rest Framework (DRF)에는 많은 장점이 있습니다. 이를 요약하면 다음과 같습니다:\\n\\n1. 강력한 기능: DRF는 RESTful API를 쉽게 작성하고 관리할 수 있는 많은 기능을 제공합니다. 인증, 권한 부여, 직렬화, 역직렬화, 뷰, 라우팅 등을 포함한 다양한 기능이 내장되어 있습니다.\\n\\n2. 유연성: DRF는 매우 유연하며, 개발자가 API를 필요에 맞게 쉽게 조정할 수 있습니다. 커스텀 시리얼라이저, 뷰 및 인증 백엔드를 구현하여 강력한 커스터마이제이션을 제공합니다.\\n\\n3. 문서화: DRF는 API에 대한 자동화된 문서 생성을 제공합니다. 이를 통해 API 엔드포인트, 필드, 기능 및 사용 방법에 대한 상세한 문서화를 제공하여 개발자들이 쉽게 API를 이해하고 사용할 수 있게 합니다.\\n\\n4. 커뮤니티 및 생태계: DRF는 광범위한 커뮤니티와 생태계를 가지고 있어서 문제 발생 시 지원을 받기 쉽고 다른 개발자들과 지식을 공유할 수 있습니다.\\n\\n5. 테스트 용이성: DRF는 테스트하기 쉬운 코드 작성을 장려하며, 테스트 케이스를 간단하게 작성하여 API의 동작을 확인할 수 있습니다.\\n\\n6. 보안: DRF는 인증과 권한 부여를 간단하게 구현할 수 있도록 지원하여 보안을 강화합니다.\\n\\n이러한 장점들로 인해 DRF는 많은 개발자들에게 선호되는 RESTful API 프레임워크 중 하나가 되었습니다.', additional_kwargs={'refusal': None}, response_metadata={'token_usage': {'completion_tokens': 551, 'prompt_tokens': 48, 'total_tokens': 599, 'completion_tokens_details': {'accepted_prediction_tokens': 0, 'audio_tokens': 0, 'reasoning_tokens': 0, 'rejected_prediction_tokens': 0}, 'prompt_tokens_details': {'audio_tokens': 0, 'cached_tokens': 0}}, 'model_name': 'gpt-3.5-turbo-0125', 'system_fingerprint': None, 'id': 'chatcmpl-BpNMm6vT6X6e0BeD5hbIbNdMVjYyO', 'service_tier': 'default', 'finish_reason': 'stop', 'logprobs': None}, id='run--f61d446c-0842-49b6-be42-6466955ace7d-0', usage_metadata={'input_tokens': 48, 'output_tokens': 551, 'total_tokens': 599, 'input_token_details': {'audio': 0, 'cache_read': 0}, 'output_token_details': {'audio': 0, 'reasoning': 0}})"
      ]
     },
     "execution_count": 10,
     "metadata": {},
     "output_type": "execute_result"
    }
   ],
   "source": [
    "chain.invoke({\"input\": \"DRF는 어떤 장점이 있어?\"})"
   ]
  },
  {
   "cell_type": "code",
   "execution_count": null,
   "id": "764e5417-3f96-4e79-a6a0-c3fda056ff81",
   "metadata": {},
   "outputs": [],
   "source": []
  }
 ],
 "metadata": {
  "kernelspec": {
   "display_name": "Python 3 (ipykernel)",
   "language": "python",
   "name": "python3"
  },
  "language_info": {
   "codemirror_mode": {
    "name": "ipython",
    "version": 3
   },
   "file_extension": ".py",
   "mimetype": "text/x-python",
   "name": "python",
   "nbconvert_exporter": "python",
   "pygments_lexer": "ipython3",
   "version": "3.13.5"
  }
 },
 "nbformat": 4,
 "nbformat_minor": 5
}
